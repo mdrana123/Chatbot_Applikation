{
 "cells": [
  {
   "cell_type": "code",
   "execution_count": 23,
   "id": "ea2042fe",
   "metadata": {},
   "outputs": [
    {
     "data": {
      "text/plain": [
       "[Document(metadata={'producer': 'Microsoft® Word for Microsoft 365', 'creator': 'Microsoft® Word for Microsoft 365', 'creationdate': '2025-05-26T12:50:01+02:00', 'author': 'python-docx', 'moddate': '2025-05-26T12:50:01+02:00', 'source': 'Foretagsinfo_RSA_AB.pdf', 'total_pages': 5, 'page': 0, 'page_label': '1'}, page_content='Företagsprofil: Rsa AB  \\n1. Företagsprofil \\nRsa AB är ett svenskt IT-konsultföretag med över tio års erfarenhet inom \\nmjukvaruutveckling, molntjänster och cybersäkerhet. Företaget grundades med visionen att \\ntillhandahålla skräddarsydda, effektiva och säkra IT-lösningar för små och medelstora \\nföretag runt om i Sverige. \\n \\nVår mission är att förenkla våra kunders vardag genom digitalisering och smart teknik. Vi \\nsträvar efter att leverera högsta kvalitet och bygga långsiktiga relationer baserade på \\nförtroende, kompetens och tillgänglighet. \\n2. Våra tjänster \\nVi erbjuder ett brett utbud av tjänster inom IT, anpassade för olika branscher och behov: \\n \\n- Mjukvaruutveckling: Fullstack-utveckling, appar, webbtjänster. \\n- Systemintegration: Effektiv dataöverföring mellan olika plattformar. \\n- IT-support och underhåll: Drift, övervakning och felsökning. \\n- Cybersäkerhetsrådgivning: Riskanalyser, policyer, penetrationstester. \\n- Molnbaserade lösningar: Microsoft Azure, Google Cloud, hybridlösningar. \\n3. Teknisk expertis \\nRsa AB arbetar med de senaste teknikerna och plattformarna. Vi har expertis inom: \\n \\n- Programmeringsspråk: Python, Java, JavaScript, C#. \\n- Ramverk: React, Angular, .NET, Django. \\n- DevOps-verktyg: Docker, Kubernetes, Jenkins.'),\n",
       " Document(metadata={'producer': 'Microsoft® Word for Microsoft 365', 'creator': 'Microsoft® Word for Microsoft 365', 'creationdate': '2025-05-26T12:50:01+02:00', 'author': 'python-docx', 'moddate': '2025-05-26T12:50:01+02:00', 'source': 'Foretagsinfo_RSA_AB.pdf', 'total_pages': 5, 'page': 1, 'page_label': '2'}, page_content='- Certifieringar: Microsoft, AWS, Google Cloud. \\n- Arbetssätt: Agil utveckling, Scrum, CI/CD. \\n4. Branschfokus \\nVi är specialiserade på lösningar för: \\n \\n- Hälso- och sjukvård: GDPR-säker hantering av patientdata. \\n- Detaljhandel: Integration av e-handel, lager och kassasystem. \\n- Finanssektorn: Högsäkerhetslösningar, transaktionssystem. \\n5. Referensprojekt och kundcase \\nExempel på projekt: \\n \\n- E-hälsaAppen: Digital bokning och patientkommunikation. \\n- RetailConnect: Integration av POS och e-handelsplattformar. \\n- FinSecPro: Säkert transaktionssystem för mindre banker. \\n \\nVåra kunder uppskattar vår lyhördhet, kompetens och leveranssäkerhet. \\n6. Support och kundrelationer \\nVi erbjuder tillgänglig och professionell support: \\n \\n- Support via e-post (support@rsa.se) och telefon (010-123 45 67). \\n- Jourservice kvällar och helger för avtalskunder. \\n- Personlig kontaktperson och ärendehanteringssystem. \\n7. Organisation och team \\nVårt team består av erfarna utvecklare, arkitekter, projektledare och supporttekniker. Vi \\ntror på ständig kompetensutveckling och en öppen företagskultur där varje medarbetare får \\nbidra med sina styrkor. \\n8. Kvalitet och säkerhet \\nVi arbetar enligt vedertagna standarder för kvalitet och säkerhet: \\n \\n- GDPR: All hantering av personuppgifter sker enligt EU:s dataskyddsförordning. \\n- Informationssäkerhetspolicy. \\n- Regelbundna riskbedömningar och uppdateringar av säkerhetsrutiner.'),\n",
       " Document(metadata={'producer': 'Microsoft® Word for Microsoft 365', 'creator': 'Microsoft® Word for Microsoft 365', 'creationdate': '2025-05-26T12:50:01+02:00', 'author': 'python-docx', 'moddate': '2025-05-26T12:50:01+02:00', 'source': 'Foretagsinfo_RSA_AB.pdf', 'total_pages': 5, 'page': 2, 'page_label': '3'}, page_content='9. Kontaktinformation \\nRsa AB \\nOrg.nr: 556123-4567 \\nAdress: Exempelvägen 1, 123 45 Stockholm \\nTelefon: 010-123 45 67 \\nE-post: info@rsa.se \\nWebbplats: www.rsa.se \\nÖppettider: Måndag–Fredag: 08:00–17:00 \\n \\n10. Framtidsvision \\nVi ser en framtid där digitalisering spelar en ännu större roll för samhällsutvecklingen. Rsa \\nAB strävar efter att vara i framkant och erbjuda innovativa lösningar med fokus på \\nhållbarhet, säkerhet och användarvänlighet. Vi planerar att expandera både geografiskt och \\ntjänstemässigt för att möta nya behov och utmaningar. \\n \\n1. Vanliga frågor (FAQ) \\nHur kan jag kontakta er support? \\n– Du kan nå vår support via e-post på support@rsa.se eller ringa 010-123 45 67. \\n2. Har ni jourservice? \\n– Ja, vi erbjuder jourservice kvällar och helger för företagskunder med serviceavtal. \\n3. Arbetar ni med specifika branscher? \\n– Vi är specialiserade på lösningar för hälso- och sjukvård, detaljhandel och \\nfinanssektorn. \\n4. Erbjuder ni skräddarsydda lösningar? \\n– Ja, vi anpassar våra lösningar efter varje kunds behov och verksamhet. \\n5. Vilka programmeringsspråk arbetar ni med? \\n– Vi arbetar bland annat med Python, Java, JavaScript och C#. \\n6. Hur fungerar er supportmodell? \\n– Vi erbjuder både standard- och premiumsupport med SLA och tillgång till \\npersonlig tekniker. \\n7. Vad innebär er cybersäkerhetsrådgivning? \\n– Vi hjälper till med riskbedömning, policyutveckling, säkerhetsrevisioner och \\nutbildningar.'),\n",
       " Document(metadata={'producer': 'Microsoft® Word for Microsoft 365', 'creator': 'Microsoft® Word for Microsoft 365', 'creationdate': '2025-05-26T12:50:01+02:00', 'author': 'python-docx', 'moddate': '2025-05-26T12:50:01+02:00', 'source': 'Foretagsinfo_RSA_AB.pdf', 'total_pages': 5, 'page': 3, 'page_label': '4'}, page_content='8. Använder ni molntjänster? \\n– Ja, vi bygger lösningar på Microsoft Azure, Google Cloud och Amazon Web \\nServices. \\n9. Har ni erfarenhet av systemintegration? \\n– Absolut, vi integrerar system via API:er och anpassade gränssnitt för smidig \\ndatadelning. \\n10. Kan ni utveckla mobilappar? \\n– Ja, vi utvecklar både iOS- och Android-appar, antingen native eller med ramverk \\nsom React Native. \\n11. Vilka certifieringar har ert team? \\n– Våra konsulter är certifierade inom bland annat AWS, Microsoft och Google Cloud. \\n12. Följer ni GDPR? \\n– Ja, all personuppgiftshantering sker enligt gällande dataskyddslagstiftning (GDPR). \\n13. Kan jag få en offert? \\n– Självklart! Kontakta oss med en beskrivning av ditt behov så återkommer vi med \\nen offert. \\n14. Hur lång är er leveranstid för ett projekt? \\n– Det beror på projektets omfattning. En första uppskattning ges alltid i offertfasen. \\n15. Erbjuder ni utbildning för våra anställda? \\n– Ja, vi erbjuder teknisk utbildning, cybersäkerhetsworkshops och \\nplattformsspecifik träning. \\n16. Vad händer om något går fel i ett system ni byggt? \\n– Vi har rutiner för incidenthantering och erbjuder snabb felsökning och \\nåterställning. \\n17. Erbjuder ni löpande underhåll av system? \\n– Ja, vi erbjuder både kontinuerligt underhåll och uppdateringar enligt avtal. \\n18. Kan ni ta över befintliga IT-system? \\n– Ja, vi kan överta drift, vidareutveckla och förbättra befintliga system. \\n19. Arbetar ni med startups och små företag? \\n– Ja, vi har särskilda paketlösningar och konsultstöd anpassade för startups och \\nmindre företag. \\n20. Vad är er vision för framtiden? \\n– Vi vill vara en ledande aktör inom säker, hållbar och användarvänlig IT i Sverige. \\n \\nKontaktinformation'),\n",
       " Document(metadata={'producer': 'Microsoft® Word for Microsoft 365', 'creator': 'Microsoft® Word for Microsoft 365', 'creationdate': '2025-05-26T12:50:01+02:00', 'author': 'python-docx', 'moddate': '2025-05-26T12:50:01+02:00', 'source': 'Foretagsinfo_RSA_AB.pdf', 'total_pages': 5, 'page': 4, 'page_label': '5'}, page_content='Rsa AB \\nOrg.nr: 556123-4567 \\nAdress: Exempelvägen 1, 123 45 Stockholm \\nTelefon: 010-123 45 67 \\nE-post: info@rsa.se')]"
      ]
     },
     "execution_count": 23,
     "metadata": {},
     "output_type": "execute_result"
    }
   ],
   "source": [
    "from langchain_community.document_loaders import PyPDFLoader# LangChain Community är en verktyg för dokumenthantering och PyPDFLoader används för att läsa och extrahera\n",
    "#text från PDF-filer så att de kan bearbetas av språkmodeller.\n",
    "loader = PyPDFLoader(\"Foretagsinfo_RSA_AB.pdf\")#Det här steget förbereder PDF-filen för att laddas in och bearbetas.\n",
    "Pdf_data = loader.load()  #  läser in hela PDF-filen\n",
    "\n",
    "Pdf_data#visar data"
   ]
  },
  {
   "cell_type": "code",
   "execution_count": 24,
   "id": "d0badbd6",
   "metadata": {},
   "outputs": [
    {
     "data": {
      "text/plain": [
       "5"
      ]
     },
     "execution_count": 24,
     "metadata": {},
     "output_type": "execute_result"
    }
   ],
   "source": [
    "len(Pdf_data)#visar lägnden av data"
   ]
  },
  {
   "cell_type": "code",
   "execution_count": 25,
   "id": "ea30da49",
   "metadata": {},
   "outputs": [
    {
     "name": "stdout",
     "output_type": "stream",
     "text": [
      "Total number of documents:  9\n"
     ]
    }
   ],
   "source": [
    "from langchain.text_splitter import RecursiveCharacterTextSplitter#TextSplitter används för att dela upp långa texter i mindre bitar\n",
    "#RecursiveCharacterTextSplitter är ett smart sätt att dela text baserat på längd och struktur\n",
    "\n",
    "#split data\n",
    "text_splitter = RecursiveCharacterTextSplitter(chunk_size=1000)#chunk_size=1000 betyder att varje textbit (chunk) kommer att ha upp till 1000 tecken\n",
    "docs = text_splitter.split_documents(Pdf_data)#Delar upp den tidigare laddade PDF-datan\n",
    "\n",
    "\n",
    "print(\"Total number of documents: \",len(docs))#Skriver ut hur många chunks som har skapats från PDF:en"
   ]
  },
  {
   "cell_type": "code",
   "execution_count": 26,
   "id": "b0970faf",
   "metadata": {},
   "outputs": [],
   "source": [
    "import os #används för att läsa miljövariabler, hantera filvägar\n",
    "from dotenv import load_dotenv#används för att läsa in miljövariabler från en .env-fil och\n",
    "load_dotenv() #läser in miljövariabler från en fil som heter .env\n",
    "api_key = os.getenv(\"GOOGLE_API_KEY\")#Hämtar värdet på miljövariabeln\n",
    "\n"
   ]
  },
  {
   "cell_type": "code",
   "execution_count": 27,
   "id": "e2e556c1",
   "metadata": {},
   "outputs": [
    {
     "data": {
      "text/plain": [
       "[-0.024917153641581535,\n",
       " 0.012005362659692764,\n",
       " -0.003886754624545574,\n",
       " -0.05774897709488869,\n",
       " 0.0020742062479257584]"
      ]
     },
     "execution_count": 27,
     "metadata": {},
     "output_type": "execute_result"
    }
   ],
   "source": [
    "from langchain_google_genai import GoogleGenerativeAIEmbeddings#GoogleGenerativeAIEmbeddings används för att skapa vektorrepresentationer av text med hjälp av Google’s generativa AI-modeller, \n",
    "#vilket är användbart för sökning eller liknande texter\n",
    "\n",
    "embeddings = GoogleGenerativeAIEmbeddings(model=\"models/gemini-embedding-exp-03-07\")#Skapar en instans av Google's generativa AI-embeddingsmodell.\n",
    "vector = embeddings.embed_query(\"hello, world!\")#Den här raden skickar texten \"hello, world!\" coh omvandlar med vektor till embeddings-modellen\n",
    "vector[:5]#Visar de första 5 värdena i vektorn"
   ]
  },
  {
   "cell_type": "code",
   "execution_count": 28,
   "id": "67b5fb83",
   "metadata": {},
   "outputs": [
    {
     "name": "stdout",
     "output_type": "stream",
     "text": [
      "[Document(id='f0b9b888-8b35-484a-a388-e7dbee8a902c', metadata={'producer': 'Microsoft® Word for Microsoft 365', 'creator': 'Microsoft® Word for Microsoft 365', 'creationdate': '2025-05-26T12:50:01+02:00', 'author': 'python-docx', 'moddate': '2025-05-26T12:50:01+02:00', 'source': 'Foretagsinfo_RSA_AB.pdf', 'total_pages': 5, 'page': 2, 'page_label': '3'}, page_content='9. Kontaktinformation \\nRsa AB \\nOrg.nr: 556123-4567 \\nAdress: Exempelvägen 1, 123 45 Stockholm \\nTelefon: 010-123 45 67 \\nE-post: info@rsa.se \\nWebbplats: www.rsa.se \\nÖppettider: Måndag–Fredag: 08:00–17:00 \\n \\n10. Framtidsvision \\nVi ser en framtid där digitalisering spelar en ännu större roll för samhällsutvecklingen. Rsa \\nAB strävar efter att vara i framkant och erbjuda innovativa lösningar med fokus på \\nhållbarhet, säkerhet och användarvänlighet. Vi planerar att expandera både geografiskt och \\ntjänstemässigt för att möta nya behov och utmaningar. \\n \\n1. Vanliga frågor (FAQ) \\nHur kan jag kontakta er support? \\n– Du kan nå vår support via e-post på support@rsa.se eller ringa 010-123 45 67. \\n2. Har ni jourservice? \\n– Ja, vi erbjuder jourservice kvällar och helger för företagskunder med serviceavtal. \\n3. Arbetar ni med specifika branscher? \\n– Vi är specialiserade på lösningar för hälso- och sjukvård, detaljhandel och \\nfinanssektorn. \\n4. Erbjuder ni skräddarsydda lösningar?'), Document(id='8f67ba62-1bb7-4640-ad3c-8a71849dd52c', metadata={'producer': 'Microsoft® Word for Microsoft 365', 'creator': 'Microsoft® Word for Microsoft 365', 'creationdate': '2025-05-26T12:50:01+02:00', 'author': 'python-docx', 'moddate': '2025-05-26T12:50:01+02:00', 'source': 'Foretagsinfo_RSA_AB.pdf', 'total_pages': 5, 'page': 2, 'page_label': '3'}, page_content='3. Arbetar ni med specifika branscher? \\n– Vi är specialiserade på lösningar för hälso- och sjukvård, detaljhandel och \\nfinanssektorn. \\n4. Erbjuder ni skräddarsydda lösningar? \\n– Ja, vi anpassar våra lösningar efter varje kunds behov och verksamhet. \\n5. Vilka programmeringsspråk arbetar ni med? \\n– Vi arbetar bland annat med Python, Java, JavaScript och C#. \\n6. Hur fungerar er supportmodell? \\n– Vi erbjuder både standard- och premiumsupport med SLA och tillgång till \\npersonlig tekniker. \\n7. Vad innebär er cybersäkerhetsrådgivning? \\n– Vi hjälper till med riskbedömning, policyutveckling, säkerhetsrevisioner och \\nutbildningar.')]\n"
     ]
    }
   ],
   "source": [
    "from langchain_core.vectorstores import InMemoryVectorStore#GoogleGenerativeAIEmbeddings används för att skapa vektorrepresentationer av text med hjälp av Google’s generativa AI-modeller, \n",
    "#vilket är användbart för sökning eller liknande texter och InMemoryVectorStore lagrar dessa vektorer i minnet\n",
    "\n",
    "vectorstore = InMemoryVectorStore.from_documents(documents=docs, embedding=GoogleGenerativeAIEmbeddings(model=\"models/embedding-001\"))#skapar\n",
    "#vektor i minnet från chunkade PDF-dokument\n",
    "\n",
    "retriever = vectorstore.as_retriever(search_type=\"similarity\", search_kwargs={\"k\": 2})#Omvandlar vektorbutiken till ett söksystem och  gör en semantisk likhetssökning\n",
    "\n",
    "retrieved_documents = retriever.invoke(\"Hur kan jag kontakta er support\")#Skickar frågan \"Hur kan jag kontakta er support\" till retrievern.\n",
    "\n",
    "print(retrieved_documents)#visar dokements kontent"
   ]
  },
  {
   "cell_type": "markdown",
   "id": "15a448ed",
   "metadata": {},
   "source": []
  },
  {
   "cell_type": "code",
   "execution_count": 29,
   "id": "01d8418e",
   "metadata": {},
   "outputs": [
    {
     "data": {
      "text/plain": [
       "2"
      ]
     },
     "execution_count": 29,
     "metadata": {},
     "output_type": "execute_result"
    }
   ],
   "source": [
    "len(retrieved_documents)#visar en lista med matchade av retrieved dokuments"
   ]
  },
  {
   "cell_type": "code",
   "execution_count": 30,
   "id": "fe20ff8c",
   "metadata": {},
   "outputs": [
    {
     "name": "stdout",
     "output_type": "stream",
     "text": [
      "9. Kontaktinformation \n",
      "Rsa AB \n",
      "Org.nr: 556123-4567 \n",
      "Adress: Exempelvägen 1, 123 45 Stockholm \n",
      "Telefon: 010-123 45 67 \n",
      "E-post: info@rsa.se \n",
      "Webbplats: www.rsa.se \n",
      "Öppettider: Måndag–Fredag: 08:00–17:00 \n",
      " \n",
      "10. Framtidsvision \n",
      "Vi ser en framtid där digitalisering spelar en ännu större roll för samhällsutvecklingen. Rsa \n",
      "AB strävar efter att vara i framkant och erbjuda innovativa lösningar med fokus på \n",
      "hållbarhet, säkerhet och användarvänlighet. Vi planerar att expandera både geografiskt och \n",
      "tjänstemässigt för att möta nya behov och utmaningar. \n",
      " \n",
      "1. Vanliga frågor (FAQ) \n",
      "Hur kan jag kontakta er support? \n",
      "– Du kan nå vår support via e-post på support@rsa.se eller ringa 010-123 45 67. \n",
      "2. Har ni jourservice? \n",
      "– Ja, vi erbjuder jourservice kvällar och helger för företagskunder med serviceavtal. \n",
      "3. Arbetar ni med specifika branscher? \n",
      "– Vi är specialiserade på lösningar för hälso- och sjukvård, detaljhandel och \n",
      "finanssektorn. \n",
      "4. Erbjuder ni skräddarsydda lösningar?\n",
      "--------------------------------------------------\n",
      "3. Arbetar ni med specifika branscher? \n",
      "– Vi är specialiserade på lösningar för hälso- och sjukvård, detaljhandel och \n",
      "finanssektorn. \n",
      "4. Erbjuder ni skräddarsydda lösningar? \n",
      "– Ja, vi anpassar våra lösningar efter varje kunds behov och verksamhet. \n",
      "5. Vilka programmeringsspråk arbetar ni med? \n",
      "– Vi arbetar bland annat med Python, Java, JavaScript och C#. \n",
      "6. Hur fungerar er supportmodell? \n",
      "– Vi erbjuder både standard- och premiumsupport med SLA och tillgång till \n",
      "personlig tekniker. \n",
      "7. Vad innebär er cybersäkerhetsrådgivning? \n",
      "– Vi hjälper till med riskbedömning, policyutveckling, säkerhetsrevisioner och \n",
      "utbildningar.\n",
      "--------------------------------------------------\n"
     ]
    }
   ],
   "source": [
    "# skriva ut själva texten i varje matchat dokument:\n",
    "for doc in retrieved_documents:\n",
    "    print(doc.page_content)\n",
    "    print(\"-\" * 50)\n"
   ]
  },
  {
   "cell_type": "code",
   "execution_count": 31,
   "id": "f260aaee",
   "metadata": {},
   "outputs": [],
   "source": [
    "from langchain_google_genai import ChatGoogleGenerativeAI#Används för att integrera med Google’s chattbaserade AI-modeller\n",
    "#används för att anropa en Google Gemini-modell i chatformat\n",
    "llm = ChatGoogleGenerativeAI(\n",
    "    model=\"gemini-2.0-flash\",\n",
    "    temperature=0,\n",
    "    max_tokens=None,\n",
    "    \n",
    ")"
   ]
  },
  {
   "cell_type": "code",
   "execution_count": 32,
   "id": "cc58c385",
   "metadata": {},
   "outputs": [],
   "source": [
    "from langchain.chains import create_retrieval_chain#Den använder embeddings för att hämta relevanta dokument och sedan ställa frågor mot dem\n",
    "from langchain.chains.combine_documents import create_stuff_documents_chain#Används för att kombinera flera dokument till ett enda inputblock som matas till språkmodellen\n",
    "from langchain_core.prompts import ChatPromptTemplate#Används för att definiera mallar och promptar  till AI-modellen ska utformas.\n",
    "\n",
    "\n",
    "\n",
    "# System prompt och detta är ett meddelande till systemet\n",
    "system_prompt = (\n",
    "\"Du är en assistent för att besvara frågor.\"\n",
    "\"Använd följande delar av hämtad kontext för att besvara frågan.\"\n",
    "\"Om du inte vet svaret, säg att du inte vet.\"\n",
    "\"Använd högst tre meningar och håll svaret kortfattat.\"\"\\n\\n{context}\"\n",
    ")\n",
    "#Skapar en promptmall\n",
    "prompt = ChatPromptTemplate.from_messages([\n",
    "    (\"system\", system_prompt),\n",
    "    (\"human\", \"{input}\"),\n",
    "])\n",
    "\n"
   ]
  },
  {
   "cell_type": "code",
   "execution_count": 33,
   "id": "73053f23",
   "metadata": {},
   "outputs": [],
   "source": [
    "question_answer_chain = create_stuff_documents_chain(llm, prompt)#Skapar en dokumentkombinerande kedja där alla hämtade dokument\n",
    "rag_chain = create_retrieval_chain(retriever, question_answer_chain)#Skapar en RAG-kedja"
   ]
  },
  {
   "cell_type": "code",
   "execution_count": 34,
   "id": "35fe573b",
   "metadata": {},
   "outputs": [
    {
     "name": "stdout",
     "output_type": "stream",
     "text": [
      "Du kan nå supporten via e-post på support@rsa.se eller ringa 010-123 45 67.\n"
     ]
    }
   ],
   "source": [
    "response = rag_chain.invoke({\"input\": \"Hur kan jag kontakta er support?\"})#ställa frågor till dina PDF-dokument,\n",
    "print(response[\"answer\"])#visar svaret"
   ]
  }
 ],
 "metadata": {
  "kernelspec": {
   "display_name": "env_langchain1",
   "language": "python",
   "name": "python3"
  },
  "language_info": {
   "codemirror_mode": {
    "name": "ipython",
    "version": 3
   },
   "file_extension": ".py",
   "mimetype": "text/x-python",
   "name": "python",
   "nbconvert_exporter": "python",
   "pygments_lexer": "ipython3",
   "version": "3.10.16"
  }
 },
 "nbformat": 4,
 "nbformat_minor": 5
}
